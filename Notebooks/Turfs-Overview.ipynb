{
 "cells": [
  {
   "cell_type": "code",
   "execution_count": 36,
   "metadata": {},
   "outputs": [],
   "source": [
    "import numpy as np\n",
    "import pandas as pd\n",
    "import geopandas as gpd\n",
    "from shapely.geometry import Point\n",
    "%matplotlib inline"
   ]
  },
  {
   "cell_type": "code",
   "execution_count": 2,
   "metadata": {},
   "outputs": [],
   "source": [
    "#Set the county name\n",
    "co_name = 'WAKE'"
   ]
  },
  {
   "cell_type": "markdown",
   "metadata": {},
   "source": [
    "## Get data\n",
    "* Census block features\n",
    "* Voter registration data, linked with lat/longs (via state address file)"
   ]
  },
  {
   "cell_type": "code",
   "execution_count": 3,
   "metadata": {},
   "outputs": [
    {
     "data": {
      "text/plain": [
       "Index(['P003001', 'P003003', 'GEOID10', 'PctBlack', 'BlackHH', 'geometry'], dtype='object')"
      ]
     },
     "execution_count": 3,
     "metadata": {},
     "output_type": "execute_result"
    }
   ],
   "source": [
    "#Get county block data as geodataframe\n",
    "gdfBlocksAll = gpd.read_file('../data/OUTPUT/{0}/{0}_blocks.shp'.format(co_name))\n",
    "gdfBlocksAll.drop(columns=['STATEFP10', 'COUNTYFP10', 'TRACTCE10', 'BLOCKCE', 'BLOCKID10',\n",
    "                           'PARTFLG', 'HOUSING10', 'POP10','P010001', 'P010004', 'PctBlack18'],\n",
    "                  axis=1,inplace=True)\n",
    "gdfBlocksAll.columns"
   ]
  },
  {
   "cell_type": "code",
   "execution_count": 4,
   "metadata": {},
   "outputs": [
    {
     "data": {
      "text/plain": [
       "Index(['Race', 'MECE', 'ncid', 'latitude', 'longitude'], dtype='object')"
      ]
     },
     "execution_count": 4,
     "metadata": {},
     "output_type": "execute_result"
    }
   ],
   "source": [
    "#Get voter points as dataframe\n",
    "dfVoterPoints_All = pd.read_csv('../data/OUTPUT/{0}/{0}_voter_points.csv'.format(co_name))\n",
    "dfVoterPoints_All = dfVoterPoints_All[['Race','MECE','ncid','latitude','longitude']]\n",
    "dfVoterPoints_All.columns"
   ]
  },
  {
   "cell_type": "markdown",
   "metadata": {},
   "source": [
    "## Filter voter data and convert to spatial features"
   ]
  },
  {
   "cell_type": "code",
   "execution_count": 5,
   "metadata": {},
   "outputs": [
    {
     "data": {
      "text/plain": [
       "(31971, 6)"
      ]
     },
     "execution_count": 5,
     "metadata": {},
     "output_type": "execute_result"
    }
   ],
   "source": [
    "#Subset only black voter points\n",
    "dfVoterPoints_Black = dfVoterPoints_All.query('Race == \"B\"').reset_index()\n",
    "dfVoterPoints_Black.shape"
   ]
  },
  {
   "cell_type": "code",
   "execution_count": 6,
   "metadata": {},
   "outputs": [
    {
     "data": {
      "text/plain": [
       "(31971, 7)"
      ]
     },
     "execution_count": 6,
     "metadata": {},
     "output_type": "execute_result"
    }
   ],
   "source": [
    "#Convert voter points to geodataframe\n",
    "geom = [Point(xy) for xy in zip(dfVoterPoints_Black.longitude,dfVoterPoints_Black.latitude)]\n",
    "gdfVoterPoints = gpd.GeoDataFrame(dfVoterPoints_Black,geometry=geom,crs={'init':'epsg:4269'})\n",
    "gdfVoterPoints.shape"
   ]
  },
  {
   "cell_type": "markdown",
   "metadata": {},
   "source": [
    "## Tag voter features with census block ID"
   ]
  },
  {
   "cell_type": "code",
   "execution_count": 7,
   "metadata": {},
   "outputs": [
    {
     "data": {
      "text/plain": [
       "Index(['index', 'Race', 'MECE', 'ncid', 'latitude', 'longitude', 'geometry',\n",
       "       'index_right', 'GEOID10'],\n",
       "      dtype='object')"
      ]
     },
     "execution_count": 7,
     "metadata": {},
     "output_type": "execute_result"
    }
   ],
   "source": [
    "#Append voter points with Census Block ID via spatial join\n",
    "gdfVoterPoints = gpd.sjoin(gdfVoterPoints,gdfBlocksAll[['GEOID10','geometry']],how='left',op='within')\n",
    "gdfVoterPoints.columns"
   ]
  },
  {
   "cell_type": "markdown",
   "metadata": {},
   "source": [
    "## Tally black voter MECE scores by census block"
   ]
  },
  {
   "cell_type": "code",
   "execution_count": 8,
   "metadata": {},
   "outputs": [],
   "source": [
    "#Tally block MECE scores\n",
    "dfBlockMECE = (gdfVoterPoints.pivot_table(\n",
    "    index='GEOID10',\n",
    "    columns='MECE',\n",
    "    aggfunc={'ncid':'count'})\n",
    "           .fillna(0)               # Set NaNs to zero\n",
    "           .droplevel(0,axis=1)     # Drop multi-index\n",
    "           .reset_index())          # Reset row index\n",
    "# Rename columns\n",
    "dfBlockMECE.columns=['GEOID10','MECE1','MECE2','MECE3','MECE4','MECE5']\n",
    "# Convert MECE counts to integers\n",
    "mece_cols = ['MECE1','MECE2','MECE3','MECE4','MECE5']\n",
    "dfBlockMECE[mece_cols]=dfBlockMECE[mece_cols].astype('int')\n",
    "# Compute total column\n",
    "dfBlockMECE['Total']=dfBlockMECE[['MECE1','MECE2','MECE3','MECE4','MECE5']].sum(axis=1)"
   ]
  },
  {
   "cell_type": "code",
   "execution_count": 9,
   "metadata": {},
   "outputs": [],
   "source": [
    "#Join MECE scores to census block features\n",
    "gdfBlocksAll = gdfBlocksAll.merge(dfBlockMECE,on='GEOID10')"
   ]
  },
  {
   "cell_type": "code",
   "execution_count": 10,
   "metadata": {},
   "outputs": [],
   "source": [
    "#Visualize results\n",
    "#gdfBlocksAll.plot('Total',figsize=(10,10),cmap='YlGnBu');"
   ]
  },
  {
   "cell_type": "markdown",
   "metadata": {},
   "source": [
    "## Calcualte turfs\n",
    "#### Isolate blocks that are at least 50% black "
   ]
  },
  {
   "cell_type": "code",
   "execution_count": 11,
   "metadata": {},
   "outputs": [],
   "source": [
    "#Subset blocks that have >= 50% black households\n",
    "gdfBlocks = gdfBlocksAll.query('PctBlack >= 50').reset_index().drop('index',axis=1)"
   ]
  },
  {
   "cell_type": "markdown",
   "metadata": {},
   "source": [
    "#### From those, save blocks with > 50 black households to \"keeper set #1\""
   ]
  },
  {
   "cell_type": "code",
   "execution_count": 21,
   "metadata": {},
   "outputs": [],
   "source": [
    "#Save blocks having > 50 black households to a separate geodataframe\n",
    "gdf_Set1 = gdfBlocks.query('BlackHH >= 50').reset_index().drop('index',axis=1)\n",
    "gdf_Set1['OrgType'] = 'OriginalBlock'\n",
    "gdf_Set1.drop(['P003001','P003003','GEOID10'],axis=1,inplace=True)"
   ]
  },
  {
   "cell_type": "markdown",
   "metadata": {},
   "source": [
    "#### Create composite turfs from remaining blocks (those with fewer than 50 BHH)"
   ]
  },
  {
   "cell_type": "code",
   "execution_count": 13,
   "metadata": {},
   "outputs": [],
   "source": [
    "#Save blocks having < 50 BHH to new geodataframe for aggregating\n",
    "gdf_ToProcess = gdfBlocks.query('BlackHH < 50').reset_index().drop('index',axis=1)"
   ]
  },
  {
   "cell_type": "code",
   "execution_count": 14,
   "metadata": {},
   "outputs": [
    {
     "name": "stdout",
     "output_type": "stream",
     "text": [
      "75 unique clusters created\n"
     ]
    }
   ],
   "source": [
    "#Create clusters by merging adjacent blocks into block clusters\n",
    "gdfClusters = gpd.GeoDataFrame(geometry=list(gdf_ToProcess.unary_union))\n",
    "gdfClusters['ClusterID'] = gdfClusters.index\n",
    "gdfClusters.crs = gdf_ToProcess.crs\n",
    "print(\"{} unique clusters created\".format(gdfClusters.shape[0]))"
   ]
  },
  {
   "cell_type": "code",
   "execution_count": 15,
   "metadata": {},
   "outputs": [],
   "source": [
    "#Assign cluster IDs to each \"to process\" blocks\n",
    "gdf_ToProcess = (gpd\n",
    "                 .sjoin(gdf_ToProcess,gdfClusters[['ClusterID','geometry']],how='left',op='within')\n",
    "                 .drop('index_right',axis=1))"
   ]
  },
  {
   "cell_type": "code",
   "execution_count": 16,
   "metadata": {},
   "outputs": [],
   "source": [
    "#Dissolve blocks on Cluster ID and tally sums\n",
    "gdfClusters2 = gdf_ToProcess.dissolve(by='ClusterID',aggfunc='sum')"
   ]
  },
  {
   "cell_type": "code",
   "execution_count": 17,
   "metadata": {},
   "outputs": [],
   "source": [
    "#Update pctBlack field\n",
    "gdfClusters2['PctBlack'] = gdfClusters2['P003003'] / gdfClusters2['P003001'] * 100"
   ]
  },
  {
   "cell_type": "code",
   "execution_count": 18,
   "metadata": {},
   "outputs": [],
   "source": [
    "#Retain only block clusters with > 50 BHH; others are impractical\n",
    "gdfClusters2 = gdfClusters2.query('BlackHH >= 50')"
   ]
  },
  {
   "cell_type": "code",
   "execution_count": 23,
   "metadata": {},
   "outputs": [
    {
     "data": {
      "text/html": [
       "<div>\n",
       "<style scoped>\n",
       "    .dataframe tbody tr th:only-of-type {\n",
       "        vertical-align: middle;\n",
       "    }\n",
       "\n",
       "    .dataframe tbody tr th {\n",
       "        vertical-align: top;\n",
       "    }\n",
       "\n",
       "    .dataframe thead th {\n",
       "        text-align: right;\n",
       "    }\n",
       "</style>\n",
       "<table border=\"1\" class=\"dataframe\">\n",
       "  <thead>\n",
       "    <tr style=\"text-align: right;\">\n",
       "      <th></th>\n",
       "      <th>geometry</th>\n",
       "      <th>PctBlack</th>\n",
       "      <th>BlackHH</th>\n",
       "      <th>MECE1</th>\n",
       "      <th>MECE2</th>\n",
       "      <th>MECE3</th>\n",
       "      <th>MECE4</th>\n",
       "      <th>MECE5</th>\n",
       "      <th>Total</th>\n",
       "      <th>OrgType</th>\n",
       "    </tr>\n",
       "  </thead>\n",
       "  <tbody>\n",
       "    <tr>\n",
       "      <th>0</th>\n",
       "      <td>POLYGON ((-78.570272 35.757264, -78.570391 35....</td>\n",
       "      <td>66.153846</td>\n",
       "      <td>67</td>\n",
       "      <td>44</td>\n",
       "      <td>97</td>\n",
       "      <td>40</td>\n",
       "      <td>11</td>\n",
       "      <td>40</td>\n",
       "      <td>232</td>\n",
       "      <td>Clustered</td>\n",
       "    </tr>\n",
       "    <tr>\n",
       "      <th>1</th>\n",
       "      <td>POLYGON ((-78.597206 35.686495, -78.598141 35....</td>\n",
       "      <td>63.333333</td>\n",
       "      <td>55</td>\n",
       "      <td>7</td>\n",
       "      <td>83</td>\n",
       "      <td>24</td>\n",
       "      <td>11</td>\n",
       "      <td>16</td>\n",
       "      <td>141</td>\n",
       "      <td>Clustered</td>\n",
       "    </tr>\n",
       "    <tr>\n",
       "      <th>2</th>\n",
       "      <td>POLYGON ((-78.83646399999999 35.683734, -78.83...</td>\n",
       "      <td>80.694981</td>\n",
       "      <td>70</td>\n",
       "      <td>23</td>\n",
       "      <td>63</td>\n",
       "      <td>22</td>\n",
       "      <td>7</td>\n",
       "      <td>15</td>\n",
       "      <td>130</td>\n",
       "      <td>Clustered</td>\n",
       "    </tr>\n",
       "    <tr>\n",
       "      <th>3</th>\n",
       "      <td>POLYGON ((-78.79899399999999 35.663849, -78.79...</td>\n",
       "      <td>81.290323</td>\n",
       "      <td>58</td>\n",
       "      <td>4</td>\n",
       "      <td>47</td>\n",
       "      <td>18</td>\n",
       "      <td>10</td>\n",
       "      <td>15</td>\n",
       "      <td>94</td>\n",
       "      <td>Clustered</td>\n",
       "    </tr>\n",
       "    <tr>\n",
       "      <th>4</th>\n",
       "      <td>POLYGON ((-78.53317699999999 35.736415, -78.53...</td>\n",
       "      <td>68.506494</td>\n",
       "      <td>65</td>\n",
       "      <td>23</td>\n",
       "      <td>35</td>\n",
       "      <td>19</td>\n",
       "      <td>13</td>\n",
       "      <td>27</td>\n",
       "      <td>117</td>\n",
       "      <td>Clustered</td>\n",
       "    </tr>\n",
       "  </tbody>\n",
       "</table>\n",
       "</div>"
      ],
      "text/plain": [
       "                                            geometry   PctBlack  BlackHH  \\\n",
       "0  POLYGON ((-78.570272 35.757264, -78.570391 35....  66.153846       67   \n",
       "1  POLYGON ((-78.597206 35.686495, -78.598141 35....  63.333333       55   \n",
       "2  POLYGON ((-78.83646399999999 35.683734, -78.83...  80.694981       70   \n",
       "3  POLYGON ((-78.79899399999999 35.663849, -78.79...  81.290323       58   \n",
       "4  POLYGON ((-78.53317699999999 35.736415, -78.53...  68.506494       65   \n",
       "\n",
       "   MECE1  MECE2  MECE3  MECE4  MECE5  Total    OrgType  \n",
       "0     44     97     40     11     40    232  Clustered  \n",
       "1      7     83     24     11     16    141  Clustered  \n",
       "2     23     63     22      7     15    130  Clustered  \n",
       "3      4     47     18     10     15     94  Clustered  \n",
       "4     23     35     19     13     27    117  Clustered  "
      ]
     },
     "execution_count": 23,
     "metadata": {},
     "output_type": "execute_result"
    }
   ],
   "source": [
    "#Save clustered blocks with < 100 Black HH to Set_2\n",
    "gdf_Set2 = gdfClusters2.query('BlackHH <= 100').reset_index().drop(['ClusterID','P003001','P003003'],axis=1)\n",
    "gdf_Set2['OrgType'] = 'Clustered'\n",
    "gdf_Set2.head()"
   ]
  },
  {
   "cell_type": "code",
   "execution_count": 22,
   "metadata": {},
   "outputs": [
    {
     "data": {
      "text/html": [
       "<div>\n",
       "<style scoped>\n",
       "    .dataframe tbody tr th:only-of-type {\n",
       "        vertical-align: middle;\n",
       "    }\n",
       "\n",
       "    .dataframe tbody tr th {\n",
       "        vertical-align: top;\n",
       "    }\n",
       "\n",
       "    .dataframe thead th {\n",
       "        text-align: right;\n",
       "    }\n",
       "</style>\n",
       "<table border=\"1\" class=\"dataframe\">\n",
       "  <thead>\n",
       "    <tr style=\"text-align: right;\">\n",
       "      <th></th>\n",
       "      <th>PctBlack</th>\n",
       "      <th>BlackHH</th>\n",
       "      <th>geometry</th>\n",
       "      <th>MECE1</th>\n",
       "      <th>MECE2</th>\n",
       "      <th>MECE3</th>\n",
       "      <th>MECE4</th>\n",
       "      <th>MECE5</th>\n",
       "      <th>Total</th>\n",
       "      <th>OrgType</th>\n",
       "    </tr>\n",
       "  </thead>\n",
       "  <tbody>\n",
       "    <tr>\n",
       "      <th>0</th>\n",
       "      <td>59.383754</td>\n",
       "      <td>70</td>\n",
       "      <td>POLYGON ((-78.33744 35.821984, -78.337457 35.8...</td>\n",
       "      <td>0</td>\n",
       "      <td>49</td>\n",
       "      <td>33</td>\n",
       "      <td>14</td>\n",
       "      <td>23</td>\n",
       "      <td>119</td>\n",
       "      <td>OriginalBlock</td>\n",
       "    </tr>\n",
       "    <tr>\n",
       "      <th>1</th>\n",
       "      <td>72.307692</td>\n",
       "      <td>53</td>\n",
       "      <td>POLYGON ((-78.572563 35.811895, -78.572035 35....</td>\n",
       "      <td>1</td>\n",
       "      <td>0</td>\n",
       "      <td>3</td>\n",
       "      <td>0</td>\n",
       "      <td>2</td>\n",
       "      <td>6</td>\n",
       "      <td>OriginalBlock</td>\n",
       "    </tr>\n",
       "    <tr>\n",
       "      <th>2</th>\n",
       "      <td>52.238806</td>\n",
       "      <td>63</td>\n",
       "      <td>POLYGON ((-78.65722199999999 35.782297, -78.65...</td>\n",
       "      <td>0</td>\n",
       "      <td>0</td>\n",
       "      <td>2</td>\n",
       "      <td>1</td>\n",
       "      <td>8</td>\n",
       "      <td>11</td>\n",
       "      <td>OriginalBlock</td>\n",
       "    </tr>\n",
       "    <tr>\n",
       "      <th>3</th>\n",
       "      <td>76.585366</td>\n",
       "      <td>137</td>\n",
       "      <td>POLYGON ((-78.60934899999999 35.75329, -78.609...</td>\n",
       "      <td>18</td>\n",
       "      <td>56</td>\n",
       "      <td>65</td>\n",
       "      <td>25</td>\n",
       "      <td>82</td>\n",
       "      <td>246</td>\n",
       "      <td>OriginalBlock</td>\n",
       "    </tr>\n",
       "    <tr>\n",
       "      <th>4</th>\n",
       "      <td>79.354839</td>\n",
       "      <td>59</td>\n",
       "      <td>POLYGON ((-78.65531299999999 35.87068, -78.654...</td>\n",
       "      <td>0</td>\n",
       "      <td>1</td>\n",
       "      <td>0</td>\n",
       "      <td>0</td>\n",
       "      <td>2</td>\n",
       "      <td>3</td>\n",
       "      <td>OriginalBlock</td>\n",
       "    </tr>\n",
       "  </tbody>\n",
       "</table>\n",
       "</div>"
      ],
      "text/plain": [
       "    PctBlack  BlackHH                                           geometry  \\\n",
       "0  59.383754       70  POLYGON ((-78.33744 35.821984, -78.337457 35.8...   \n",
       "1  72.307692       53  POLYGON ((-78.572563 35.811895, -78.572035 35....   \n",
       "2  52.238806       63  POLYGON ((-78.65722199999999 35.782297, -78.65...   \n",
       "3  76.585366      137  POLYGON ((-78.60934899999999 35.75329, -78.609...   \n",
       "4  79.354839       59  POLYGON ((-78.65531299999999 35.87068, -78.654...   \n",
       "\n",
       "   MECE1  MECE2  MECE3  MECE4  MECE5  Total        OrgType  \n",
       "0      0     49     33     14     23    119  OriginalBlock  \n",
       "1      1      0      3      0      2      6  OriginalBlock  \n",
       "2      0      0      2      1      8     11  OriginalBlock  \n",
       "3     18     56     65     25     82    246  OriginalBlock  \n",
       "4      0      1      0      0      2      3  OriginalBlock  "
      ]
     },
     "execution_count": 22,
     "metadata": {},
     "output_type": "execute_result"
    }
   ],
   "source": [
    "gdf_Set1.head()"
   ]
  },
  {
   "cell_type": "code",
   "execution_count": 24,
   "metadata": {},
   "outputs": [],
   "source": [
    "#Step 4e. For clusters that are too big (> 100 Black HH), cluster incrementally\n",
    "#  so that clusters have up to 100 Black HH. These will be saved as gdf_Org3\n",
    "\n",
    "#-> Get a list of Cluster IDs for block clusters with more than 100 BHH;\n",
    "#   we'll cluster individual blocks with these IDs until BHH >= 100\n",
    "clusterIDs = gdfClusters2.query('BlackHH > 100').index.unique()"
   ]
  },
  {
   "cell_type": "code",
   "execution_count": 25,
   "metadata": {},
   "outputs": [],
   "source": [
    "#Iterate through each clusterID\n",
    "gdfs = []\n",
    "for clusterID in clusterIDs:\n",
    "    #Get all the blocks in the selected cluster\n",
    "    gdfBlksAll = gdf_ToProcess.query('ClusterID == {}'.format(clusterID)).reset_index()\n",
    "    #Assign the X coordinate, used to select the first feature in a sub-cluster\n",
    "    gdfBlksAll['X'] = gdfBlksAll.geometry.centroid.x\n",
    "    #Set all blocks to \"unclaimed\"\n",
    "    gdfBlksAll['claimed'] = 0\n",
    "    #Determine how many blocks are unclaimed\n",
    "    unclaimedCount = gdfBlksAll.query('claimed == 0')['X'].count()\n",
    "    #Initialize the loop catch variable\n",
    "    stopLoop = 0 \n",
    "    #Run until all blocks have been \"claimed\"\n",
    "    while unclaimedCount > 0:\n",
    "        \n",
    "        #Extract all unclaimed blocks\n",
    "        gdfBlks = gdfBlksAll[gdfBlksAll.claimed == 0].reset_index()\n",
    "\n",
    "        #Get the initial block (the western most one); get its BHH and geometry\n",
    "        gdfBlock = gdfBlks[gdfBlks.X == gdfBlks.X.min()]\n",
    "        BHH = gdfBlock.BlackHH.sum()\n",
    "        geom = gdfBlock.geometry.unary_union\n",
    "        \n",
    "        #Expand the geometry until 100 BHH are found\n",
    "        stopLoop2 = 0 #Loop break check\n",
    "        while BHH < 100:\n",
    "            #Select unclaimed blocks that within the area\n",
    "            gdfNbrs = gdfBlksAll[(gdfBlksAll.touches(geom))]\n",
    "            gdfBoth = pd.concat((gdfBlock,gdfNbrs),axis='rows',sort=False)\n",
    "            gdfBlock = gdfBoth.copy(deep=True)\n",
    "            #Tally the BHHs in the area and update the area shape\n",
    "            BHH = gdfBoth.BlackHH.sum()\n",
    "            geom = gdfBoth.geometry.unary_union\n",
    "            #Catch if run 100 times without getting to 100 BHH\n",
    "            stopLoop2 += 1\n",
    "            if stopLoop2 > 100: \n",
    "                print(\"BHH never reached 100\")\n",
    "                break\n",
    "                \n",
    "        #Extract features intersecting the geometry to a new dataframe\n",
    "        gdfSelect = (gdfBlksAll[(gdfBlksAll.centroid.within(geom)) & \n",
    "                                (gdfBlksAll.claimed == 0) \n",
    "                               ]\n",
    "                 .reset_index()\n",
    "                 .dissolve(by='ClusterID', aggfunc='sum')\n",
    "                 .drop(['level_0','index','X'],axis=1)\n",
    "                )\n",
    "        \n",
    "        #Set all features intersecting the shape as \"claimed\"\n",
    "        gdfBlksAll.loc[gdfBlksAll.geometry.centroid.within(geom),'claimed'] = 1\n",
    "        unclaimedCount = gdfBlksAll.query('claimed == 0')['X'].count()\n",
    "\n",
    "        #Add the dataframe to the list of datarames\n",
    "        gdfs.append(gdfSelect[gdfSelect['BlackHH'] >= 50])    \n",
    "        \n",
    "        #Stop the loop if run for over 100 iterations\n",
    "        stopLoop += 1\n",
    "        if stopLoop > 100: break\n",
    "    "
   ]
  },
  {
   "cell_type": "code",
   "execution_count": 32,
   "metadata": {},
   "outputs": [
    {
     "name": "stdout",
     "output_type": "stream",
     "text": [
      "    ...completing creating on new clusters: 'Org3'\n"
     ]
    }
   ],
   "source": [
    "#-> Concat these to a new geodataframe, update pct fields, and add Org ID and types\n",
    "print(\"    ...completing creating on new clusters: 'Org3'\")\n",
    "gdf_Set3= pd.concat(gdfs,sort=False)\n",
    "gdf_Set3['PctBlack'] = gdf_Set3['P003003'] / gdf_Set3['P003001'] * 100\n",
    "gdf_Set3['OrgType'] = 'block aggregate'\n",
    "gdf_Set3.drop(['claimed','P003001','P003003'],axis=1,inplace=True)"
   ]
  },
  {
   "cell_type": "code",
   "execution_count": 33,
   "metadata": {},
   "outputs": [
    {
     "data": {
      "text/html": [
       "<div>\n",
       "<style scoped>\n",
       "    .dataframe tbody tr th:only-of-type {\n",
       "        vertical-align: middle;\n",
       "    }\n",
       "\n",
       "    .dataframe tbody tr th {\n",
       "        vertical-align: top;\n",
       "    }\n",
       "\n",
       "    .dataframe thead th {\n",
       "        text-align: right;\n",
       "    }\n",
       "</style>\n",
       "<table border=\"1\" class=\"dataframe\">\n",
       "  <thead>\n",
       "    <tr style=\"text-align: right;\">\n",
       "      <th></th>\n",
       "      <th>geometry</th>\n",
       "      <th>PctBlack</th>\n",
       "      <th>BlackHH</th>\n",
       "      <th>MECE1</th>\n",
       "      <th>MECE2</th>\n",
       "      <th>MECE3</th>\n",
       "      <th>MECE4</th>\n",
       "      <th>MECE5</th>\n",
       "      <th>Total</th>\n",
       "      <th>OrgType</th>\n",
       "    </tr>\n",
       "    <tr>\n",
       "      <th>ClusterID</th>\n",
       "      <th></th>\n",
       "      <th></th>\n",
       "      <th></th>\n",
       "      <th></th>\n",
       "      <th></th>\n",
       "      <th></th>\n",
       "      <th></th>\n",
       "      <th></th>\n",
       "      <th></th>\n",
       "      <th></th>\n",
       "    </tr>\n",
       "  </thead>\n",
       "  <tbody>\n",
       "    <tr>\n",
       "      <th>0</th>\n",
       "      <td>POLYGON ((-78.60114299999999 35.695478, -78.60...</td>\n",
       "      <td>71.388102</td>\n",
       "      <td>114</td>\n",
       "      <td>12</td>\n",
       "      <td>94</td>\n",
       "      <td>32</td>\n",
       "      <td>14</td>\n",
       "      <td>31</td>\n",
       "      <td>183</td>\n",
       "      <td>block aggregate</td>\n",
       "    </tr>\n",
       "    <tr>\n",
       "      <th>1</th>\n",
       "      <td>POLYGON ((-78.596716 35.727266, -78.596144 35....</td>\n",
       "      <td>82.089552</td>\n",
       "      <td>137</td>\n",
       "      <td>39</td>\n",
       "      <td>182</td>\n",
       "      <td>61</td>\n",
       "      <td>21</td>\n",
       "      <td>50</td>\n",
       "      <td>353</td>\n",
       "      <td>block aggregate</td>\n",
       "    </tr>\n",
       "    <tr>\n",
       "      <th>1</th>\n",
       "      <td>POLYGON ((-78.587896 35.703238, -78.5879 35.70...</td>\n",
       "      <td>80.887372</td>\n",
       "      <td>91</td>\n",
       "      <td>6</td>\n",
       "      <td>90</td>\n",
       "      <td>23</td>\n",
       "      <td>12</td>\n",
       "      <td>27</td>\n",
       "      <td>158</td>\n",
       "      <td>block aggregate</td>\n",
       "    </tr>\n",
       "    <tr>\n",
       "      <th>3</th>\n",
       "      <td>POLYGON ((-78.63722199999999 35.76585499999999...</td>\n",
       "      <td>90.909091</td>\n",
       "      <td>120</td>\n",
       "      <td>15</td>\n",
       "      <td>19</td>\n",
       "      <td>32</td>\n",
       "      <td>14</td>\n",
       "      <td>56</td>\n",
       "      <td>136</td>\n",
       "      <td>block aggregate</td>\n",
       "    </tr>\n",
       "    <tr>\n",
       "      <th>3</th>\n",
       "      <td>POLYGON ((-78.63465099999999 35.768262, -78.63...</td>\n",
       "      <td>91.155867</td>\n",
       "      <td>106</td>\n",
       "      <td>31</td>\n",
       "      <td>65</td>\n",
       "      <td>164</td>\n",
       "      <td>136</td>\n",
       "      <td>464</td>\n",
       "      <td>860</td>\n",
       "      <td>block aggregate</td>\n",
       "    </tr>\n",
       "  </tbody>\n",
       "</table>\n",
       "</div>"
      ],
      "text/plain": [
       "                                                    geometry   PctBlack  \\\n",
       "ClusterID                                                                 \n",
       "0          POLYGON ((-78.60114299999999 35.695478, -78.60...  71.388102   \n",
       "1          POLYGON ((-78.596716 35.727266, -78.596144 35....  82.089552   \n",
       "1          POLYGON ((-78.587896 35.703238, -78.5879 35.70...  80.887372   \n",
       "3          POLYGON ((-78.63722199999999 35.76585499999999...  90.909091   \n",
       "3          POLYGON ((-78.63465099999999 35.768262, -78.63...  91.155867   \n",
       "\n",
       "           BlackHH  MECE1  MECE2  MECE3  MECE4  MECE5  Total          OrgType  \n",
       "ClusterID                                                                      \n",
       "0              114     12     94     32     14     31    183  block aggregate  \n",
       "1              137     39    182     61     21     50    353  block aggregate  \n",
       "1               91      6     90     23     12     27    158  block aggregate  \n",
       "3              120     15     19     32     14     56    136  block aggregate  \n",
       "3              106     31     65    164    136    464    860  block aggregate  "
      ]
     },
     "execution_count": 33,
     "metadata": {},
     "output_type": "execute_result"
    }
   ],
   "source": [
    "gdf_Set3.head()"
   ]
  },
  {
   "cell_type": "code",
   "execution_count": 42,
   "metadata": {},
   "outputs": [
    {
     "name": "stdout",
     "output_type": "stream",
     "text": [
      " 5. Combining Org1, Org2, Org3 into a single feature class\n"
     ]
    }
   ],
   "source": [
    "#--- Step 5. Merge all three keepers\n",
    "print(\" 5. Combining Org1, Org2, Org3 into a single feature class\")\n",
    "gdfAllOrgs = pd.concat((gdf_Set1, gdf_Set2, gdf_Set3),axis=0,sort=True)"
   ]
  },
  {
   "cell_type": "code",
   "execution_count": 43,
   "metadata": {},
   "outputs": [
    {
     "name": "stdout",
     "output_type": "stream",
     "text": [
      " 6. Assigning random IDs for org units\n"
     ]
    },
    {
     "data": {
      "text/html": [
       "<div>\n",
       "<style scoped>\n",
       "    .dataframe tbody tr th:only-of-type {\n",
       "        vertical-align: middle;\n",
       "    }\n",
       "\n",
       "    .dataframe tbody tr th {\n",
       "        vertical-align: top;\n",
       "    }\n",
       "\n",
       "    .dataframe thead th {\n",
       "        text-align: right;\n",
       "    }\n",
       "</style>\n",
       "<table border=\"1\" class=\"dataframe\">\n",
       "  <thead>\n",
       "    <tr style=\"text-align: right;\">\n",
       "      <th></th>\n",
       "      <th>BlackHH</th>\n",
       "      <th>MECE1</th>\n",
       "      <th>MECE2</th>\n",
       "      <th>MECE3</th>\n",
       "      <th>MECE4</th>\n",
       "      <th>MECE5</th>\n",
       "      <th>OrgType</th>\n",
       "      <th>PctBlack</th>\n",
       "      <th>Total</th>\n",
       "      <th>geometry</th>\n",
       "    </tr>\n",
       "  </thead>\n",
       "  <tbody>\n",
       "    <tr>\n",
       "      <th>0</th>\n",
       "      <td>64</td>\n",
       "      <td>1</td>\n",
       "      <td>5</td>\n",
       "      <td>3</td>\n",
       "      <td>3</td>\n",
       "      <td>10</td>\n",
       "      <td>OriginalBlock</td>\n",
       "      <td>92.380952</td>\n",
       "      <td>22</td>\n",
       "      <td>POLYGON ((-78.613198 35.777413, -78.6133409999...</td>\n",
       "    </tr>\n",
       "    <tr>\n",
       "      <th>1</th>\n",
       "      <td>84</td>\n",
       "      <td>0</td>\n",
       "      <td>0</td>\n",
       "      <td>1</td>\n",
       "      <td>0</td>\n",
       "      <td>2</td>\n",
       "      <td>OriginalBlock</td>\n",
       "      <td>64.655172</td>\n",
       "      <td>3</td>\n",
       "      <td>POLYGON ((-78.626065 35.811292, -78.625995 35....</td>\n",
       "    </tr>\n",
       "    <tr>\n",
       "      <th>2</th>\n",
       "      <td>70</td>\n",
       "      <td>23</td>\n",
       "      <td>63</td>\n",
       "      <td>22</td>\n",
       "      <td>7</td>\n",
       "      <td>15</td>\n",
       "      <td>Clustered</td>\n",
       "      <td>80.694981</td>\n",
       "      <td>130</td>\n",
       "      <td>POLYGON ((-78.83646399999999 35.683734, -78.83...</td>\n",
       "    </tr>\n",
       "    <tr>\n",
       "      <th>3</th>\n",
       "      <td>58</td>\n",
       "      <td>6</td>\n",
       "      <td>12</td>\n",
       "      <td>6</td>\n",
       "      <td>6</td>\n",
       "      <td>17</td>\n",
       "      <td>OriginalBlock</td>\n",
       "      <td>67.692308</td>\n",
       "      <td>47</td>\n",
       "      <td>POLYGON ((-78.60553399999999 35.767493, -78.60...</td>\n",
       "    </tr>\n",
       "    <tr>\n",
       "      <th>4</th>\n",
       "      <td>53</td>\n",
       "      <td>39</td>\n",
       "      <td>11</td>\n",
       "      <td>9</td>\n",
       "      <td>10</td>\n",
       "      <td>17</td>\n",
       "      <td>block aggregate</td>\n",
       "      <td>88.275862</td>\n",
       "      <td>86</td>\n",
       "      <td>(POLYGON ((-78.61814799999999 35.777532, -78.6...</td>\n",
       "    </tr>\n",
       "  </tbody>\n",
       "</table>\n",
       "</div>"
      ],
      "text/plain": [
       "   BlackHH  MECE1  MECE2  MECE3  MECE4  MECE5          OrgType   PctBlack  \\\n",
       "0       64      1      5      3      3     10    OriginalBlock  92.380952   \n",
       "1       84      0      0      1      0      2    OriginalBlock  64.655172   \n",
       "2       70     23     63     22      7     15        Clustered  80.694981   \n",
       "3       58      6     12      6      6     17    OriginalBlock  67.692308   \n",
       "4       53     39     11      9     10     17  block aggregate  88.275862   \n",
       "\n",
       "   Total                                           geometry  \n",
       "0     22  POLYGON ((-78.613198 35.777413, -78.6133409999...  \n",
       "1      3  POLYGON ((-78.626065 35.811292, -78.625995 35....  \n",
       "2    130  POLYGON ((-78.83646399999999 35.683734, -78.83...  \n",
       "3     47  POLYGON ((-78.60553399999999 35.767493, -78.60...  \n",
       "4     86  (POLYGON ((-78.61814799999999 35.777532, -78.6...  "
      ]
     },
     "execution_count": 43,
     "metadata": {},
     "output_type": "execute_result"
    }
   ],
   "source": [
    "#--- Step 6. Assign random IDs \n",
    "print(\" 6. Assigning random IDs for org units\")\n",
    "# 1. Compute Random Org IDs\n",
    "numRows = gdfAllOrgs.shape[0]\n",
    "gdfAllOrgs['Rando'] = np.random.randint(numRows,size=(numRows,1)) \n",
    "gdfAllOrgs.sort_values(by='Rando',axis=0,inplace=True)\n",
    "gdfAllOrgs.reset_index(inplace=True)\n",
    "gdfAllOrgs['RandomID'] = gdfAllOrgs.index + 1\n",
    "gdfAllOrgs.drop(['index','RandomID','Rando'],axis=1,inplace=True)\n",
    "gdfAllOrgs.head()"
   ]
  },
  {
   "cell_type": "code",
   "execution_count": 47,
   "metadata": {},
   "outputs": [
    {
     "data": {
      "image/png": "[encoded data removed]",
      "text/plain": [
       "<Figure size 432x288 with 1 Axes>"
      ]
     },
     "metadata": {
      "needs_background": "light"
     },
     "output_type": "display_data"
    }
   ],
   "source": [
    "gdfAllOrgs.plot('BlackHH',cmap='YlGnBu');"
   ]
  },
  {
   "cell_type": "code",
   "execution_count": null,
   "metadata": {},
   "outputs": [],
   "source": [
    "#--- Step 7. Compute org unit area, in square miles\n",
    "print(\" 7. Computing org unit areas (in sq miles)\")\n",
    "\n",
    "## FIX FOR PYPROJ GLITCH ##\n",
    "import os, sys\n",
    "env_folder = os.path.dirname(sys.executable)\n",
    "os.environ['PROJ_LIB']=os.path.join(env_folder,'Library','share')\n",
    "\n",
    "# Project data to NC State Plane (feet)   \n",
    "gdfNCStatePlane = gdfAllOrgs.to_crs({'init': 'epsg:2264'})  \n",
    "# Compute area, in square miles\n",
    "gdfNCStatePlane['area'] = gdfNCStatePlane.geometry.area \n",
    "gdfAllOrgs['sq_miles']  =  gdfNCStatePlane['area'] / 27878400  #ft to sq mi\n",
    "\n",
    "#--- Step 8. Tag voter data with org Unit ID\n",
    "print(\" 8. Tagging voter data with org unit [random] IDs\")\n",
    "# Spatially join org units' RandomID values to voter points\n",
    "gdfVoter_org = gpd.sjoin(left_df = gdfVoter, right_df=gdfAllOrgs[['RandomID','geometry']], \n",
    "                         how='right',op='within')\n",
    "# Clean up columns\n",
    "gdfVoter_org.drop(columns=['index_left','Oct17', 'Nov12', 'Nov18', 'Nov17', 'Nov16',\n",
    "                           'HOUSING10', 'POP10', 'P003001', 'P003003', 'P010001',\n",
    "                           'P010004', 'PctBlack', 'PctBlack18', 'BlackHH'],inplace=True)\n",
    "   \n",
    "#--- Step 9. Add precinct and city information to org unit\n",
    "print(\" 9. Adding precinct and city information to org units\")\n",
    "# -> Create a lookup table of precincty and city for each random ID\n",
    "dfLookup = (gdfVoter_org[['RandomID','precinct_abbrv','res_city_desc']].\n",
    "            groupby('RandomID').\n",
    "            agg(pd.Series.mode)).reset_index()\n",
    "# -> Join back to the orgs dataframe\n",
    "gdfAllOrgs2 = gdfAllOrgs.merge(dfLookup,on='RandomID',how='left')\n",
    "# -> fix column types\n",
    "gdfAllOrgs2['precinct_abbrv'] = gdfAllOrgs2['precinct_abbrv'].astype('str')\n",
    "gdfAllOrgs2['res_city_desc'] = gdfAllOrgs2['res_city_desc'].astype('str')"
   ]
  },
  {
   "cell_type": "code",
   "execution_count": null,
   "metadata": {},
   "outputs": [],
   "source": []
  }
 ],
 "metadata": {
  "kernelspec": {
   "display_name": "Python 3",
   "language": "python",
   "name": "python3"
  },
  "language_info": {
   "codemirror_mode": {
    "name": "ipython",
    "version": 3
   },
   "file_extension": ".py",
   "mimetype": "text/x-python",
   "name": "python",
   "nbconvert_exporter": "python",
   "pygments_lexer": "ipython3",
   "version": "3.6.8"
  }
 },
 "nbformat": 4,
 "nbformat_minor": 2
}
